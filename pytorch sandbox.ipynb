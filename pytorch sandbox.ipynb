{
 "cells": [
  {
   "cell_type": "code",
   "execution_count": 29,
   "metadata": {},
   "outputs": [],
   "source": [
    "from collections import defaultdict\n",
    "import time\n",
    "import random\n",
    "import torch\n",
    "import torch.nn as nn\n",
    "import torch.autograd as autograd\n",
    "import torch.optim as optim\n",
    "import torch.nn.functional as F\n",
    "import numpy as np"
   ]
  },
  {
   "cell_type": "code",
   "execution_count": 2,
   "metadata": {},
   "outputs": [],
   "source": [
    "class CNN(nn.Module):\n",
    "    def __init__(self, nwords, emb_size, filter_size, window_size, class_size):\n",
    "        super(CNN, self).__init__()\n",
    "\n",
    "        # Embedding layer\n",
    "        self.embedding = nn.Embedding(nwords, emb_size)\n",
    "\n",
    "        # uniform initialization \n",
    "        nn.init.uniform_(self.embedding.weight, -0.25, 0.25)\n",
    "\n",
    "        # 1d convolutions\n",
    "        self.conv_1d = nn.Conv1d(in_channels = emb_size, out_channels = filter_size, kernel_size = window_size, stride = 1, padding = 0, dilation = 1, groups = 1, bias = True)\n",
    "\n",
    "        # relu unit\n",
    "        self.relu = nn.ReLU()\n",
    "\n",
    "        # projection layer\n",
    "        self.projection_layer = nn.Linear(in_features = filter_size, out_features = class_size, bias = True)\n",
    "\n",
    "        # xavier initialization of the projection layer\n",
    "        nn.init.xavier_uniform_(self.projection_layer.weight)\n",
    "\n",
    "    def forward(self, words):\n",
    "        emb = self.embedding(words) # nwords x emb_size\n",
    "        emb = emb.unsqueeze(0).permute(0, 2, 1) # 1 x emb_size x vocab\n",
    "        h = self.conv_1d(emb) # perform convolution over the stretched embeddings\n",
    "\n",
    "        # max pooling\n",
    "        h = h.max(dim = 2)[0]\n",
    "        h = self.relu(h)\n",
    "        out = self.projection_layer(h)\n",
    "        return out"
   ]
  },
  {
   "cell_type": "code",
   "execution_count": 3,
   "metadata": {},
   "outputs": [
    {
     "name": "stdout",
     "output_type": "stream",
     "text": [
      "Reading ./data/sentence_classification/train.txt..\n",
      "Reading ./data/sentence_classification/dev.txt..\n",
      "Reading ./data/sentence_classification/test.txt..\n"
     ]
    }
   ],
   "source": [
    "w2i = defaultdict(lambda: len(w2i))\n",
    "t2i = defaultdict(lambda: len(t2i))\n",
    "UNK = w2i[\"<unk>\"]\n",
    "\n",
    "def read_data(filename):\n",
    "    print(\"Reading {}..\".format(filename))\n",
    "    with open(filename) as f:\n",
    "        for line in f:\n",
    "            tag, words = line.lower().strip().split(\" ||| \")\n",
    "            yield ([w2i[x] for x in words.split(\" \")], t2i[tag])\n",
    "\n",
    "files = [\"train\", \"dev\", \"test\"]\n",
    "\n",
    "train, dev, test = [list(read_data(\"./data/sentence_classification/{}.txt\".format(f))) for f in files]\n",
    "\n",
    "nwords = len(w2i)\n",
    "CLASS_SIZE = len(t2i)\n",
    "EMB_SIZE = 64\n",
    "WIN_SIZE = 3\n",
    "FILTER_SIZE = 64\n",
    "# print(\"number of words = {}, class size = {}.\".format(nwords, CLASS_SIZE))"
   ]
  },
  {
   "cell_type": "code",
   "execution_count": 5,
   "metadata": {},
   "outputs": [],
   "source": [
    "# initialize the model\n",
    "model = CNN(nwords, EMB_SIZE, FILTER_SIZE, WIN_SIZE, CLASS_SIZE)\n",
    "criterion = nn.CrossEntropyLoss()\n",
    "optimizer = optim.Adam(model.parameters())"
   ]
  },
  {
   "cell_type": "code",
   "execution_count": 16,
   "metadata": {},
   "outputs": [],
   "source": [
    "## Example\n",
    "example = train[1]\n",
    "words, tag = example\n",
    "\n",
    "example_word_tensor = torch.tensor(words)\n",
    "example_tag_tensor = torch.tensor(tag)\n",
    "\n",
    "score = model(example_word_tensor)"
   ]
  },
  {
   "cell_type": "code",
   "execution_count": 28,
   "metadata": {},
   "outputs": [
    {
     "data": {
      "text/plain": [
       "4"
      ]
     },
     "execution_count": 28,
     "metadata": {},
     "output_type": "execute_result"
    }
   ],
   "source": [
    "score.argmax().item()"
   ]
  },
  {
   "cell_type": "code",
   "execution_count": null,
   "metadata": {},
   "outputs": [],
   "source": [
    "type = torch.LongTensor\n",
    "use_cuda = torch.cuda.is_available()\n",
    "\n",
    "if use_cuda:\n",
    "    type = torch.cuda.LongTensor\n",
    "    model.cuda()\n",
    "\n",
    "for ITER in range(100):\n",
    "    random.shuffle(train)\n",
    "    train_loss = 0.0\n",
    "    train_correct = 0.0\n",
    "    start = time.time()\n",
    "    for words, tag in train:\n",
    "        if len(words) < WIN_SIZE:\n",
    "            words += [0] * (WIN_SIZE - len(words))\n",
    "        words_tensor = torch.tensor(words).type(type)\n",
    "        tag_tensor = torch.tensor([tag]).type(type)\n",
    "        scores = model(words_tensor)\n",
    "        predict = scores[0].argmax().item()\n",
    "        if predict == tag:\n",
    "            train_correct += 1\n",
    "\n",
    "        loss = criterion(scores, tag_tensor)\n",
    "        train_loss += loss.item()\n",
    "\n",
    "        optimizer.zero_grad()\n",
    "        loss.backward()\n",
    "        optimizer.step()\n",
    "    print(\"iter %r: train loss/sent = %.4f, acc = %.4f, time = %.2fs\" % (ITER, train_loss/len(train), train_correct/len(train), time.time()-start))\n",
    "\n",
    "      test_corret = 0.0\n",
    "\n",
    "    for words, tag in dev:\n",
    "        if len(words) < WIN_SIZE:\n",
    "            words += [0] * (WIN_SIZE - len(words))\n",
    "        words_tensor = torch.tensor(words).type(type)\n",
    "        scores = model(words_tensor)\n",
    "        predict = scores[0].argmax().item()\n",
    "        if predict == tag:\n",
    "            test_correct += 1\n",
    "    print(\"iter %r: test acc = %.4f\" % (ITER, test_correct/len(dev)))"
   ]
  }
 ],
 "metadata": {
  "kernelspec": {
   "display_name": "Python 3",
   "language": "python",
   "name": "python3"
  },
  "language_info": {
   "codemirror_mode": {
    "name": "ipython",
    "version": 3
   },
   "file_extension": ".py",
   "mimetype": "text/x-python",
   "name": "python",
   "nbconvert_exporter": "python",
   "pygments_lexer": "ipython3",
   "version": "3.6.3"
  }
 },
 "nbformat": 4,
 "nbformat_minor": 2
}
