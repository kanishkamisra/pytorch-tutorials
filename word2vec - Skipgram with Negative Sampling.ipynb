{
 "cells": [
  {
   "cell_type": "markdown",
   "metadata": {},
   "source": [
    "## Skipgram Word Vectors with Negative Sampling\n",
    "\n",
    "Replicating Mikolov et al. 2013 with pytorch\n",
    "\n",
    "Thanks to [this](https://github.com/DSKSD/DeepNLP-models-Pytorch) repo"
   ]
  },
  {
   "cell_type": "code",
   "execution_count": 2,
   "metadata": {},
   "outputs": [
    {
     "data": {
      "text/plain": [
       "<torch._C.Generator at 0x7f2d14050490>"
      ]
     },
     "execution_count": 2,
     "metadata": {},
     "output_type": "execute_result"
    }
   ],
   "source": [
    "import torch\n",
    "import torch.nn as nn\n",
    "import torch.autograd as autograd\n",
    "import torch.optim as optim\n",
    "import torch.nn.functional as F\n",
    "import nltk\n",
    "import random\n",
    "import numpy as np\n",
    "from collections import Counter\n",
    "\n",
    "random.seed(1024)\n",
    "torch.manual_seed(1)"
   ]
  },
  {
   "cell_type": "code",
   "execution_count": 32,
   "metadata": {},
   "outputs": [],
   "source": [
    "flatten = lambda l: [item for sublist in l for item in sublist]\n",
    "\n",
    "def get_batch(batch_size, train_data):\n",
    "    random.shuffle(train_data)\n",
    "    start_index = 0\n",
    "    end_index = batch_size\n",
    "    while end_index < len(train_data):\n",
    "        batch = train_data[start_index:end_index]\n",
    "        temp = end_index\n",
    "        end_index = end_index + batch_size\n",
    "        start_index = temp\n",
    "        yield batch\n",
    "    if end_index >= len(train_data):\n",
    "        batch = train_data[start_index:]\n",
    "        yield batch\n",
    "\n",
    "def prepare_sequence(seq, word2idx):\n",
    "    idxs = list(map(lambda w: word2idx[w] if word2idx.get(w) is not None else word2idx['<UNK>'], seq))\n",
    "    return(autograd.Variable(torch.tensor(idxs, dtype = torch.long)))\n",
    "\n",
    "def prepare_word(word, word2idx):\n",
    "    return(autograd.Variable(torch.tensor([word2idx[word]], dtype = torch.long) if word2idx.get(word) is not None else torch.tensor(word2idx['<UNK>'], dtype = torch.long)))"
   ]
  },
  {
   "cell_type": "code",
   "execution_count": 8,
   "metadata": {},
   "outputs": [],
   "source": [
    "corpus = list(nltk.corpus.gutenberg.sents('melville-moby_dick.txt'))[:500]\n",
    "corpus = [[word.lower() for word in sent] for sent in corpus]\n",
    "\n",
    "word_count = Counter(flatten(corpus))"
   ]
  },
  {
   "cell_type": "code",
   "execution_count": 18,
   "metadata": {},
   "outputs": [
    {
     "data": {
      "text/plain": [
       "[(',', 648),\n",
       " ('the', 533),\n",
       " ('.', 342),\n",
       " ('of', 299),\n",
       " ('a', 273),\n",
       " ('and', 258),\n",
       " ('in', 188),\n",
       " ('to', 182),\n",
       " ('--', 129),\n",
       " ('\"', 120)]"
      ]
     },
     "execution_count": 18,
     "metadata": {},
     "output_type": "execute_result"
    }
   ],
   "source": [
    "word_count.most_common()[:10]"
   ]
  },
  {
   "cell_type": "code",
   "execution_count": 11,
   "metadata": {},
   "outputs": [],
   "source": [
    "MIN_COUNT = 3\n",
    "exclude = []\n",
    "\n",
    "for w, c in word_count.items():\n",
    "    if c < MIN_COUNT:\n",
    "        exclude.append(w)\n",
    "\n",
    "vocab = list(set(flatten(corpus)) - set(exclude))\n",
    "vocab.append('<UNK>')"
   ]
  },
  {
   "cell_type": "code",
   "execution_count": 15,
   "metadata": {},
   "outputs": [],
   "source": [
    "word2idx = {'<UNK>': 0}\n",
    "for word in vocab:\n",
    "    if word2idx.get(word) is None:\n",
    "        word2idx[word] = len(word2idx)"
   ]
  },
  {
   "cell_type": "code",
   "execution_count": 23,
   "metadata": {},
   "outputs": [
    {
     "data": {
      "text/plain": [
       "[('<DUMMY>',\n",
       "  '<DUMMY>',\n",
       "  '<DUMMY>',\n",
       "  '<DUMMY>',\n",
       "  '<DUMMY>',\n",
       "  '[',\n",
       "  'moby',\n",
       "  'dick',\n",
       "  'by',\n",
       "  'herman',\n",
       "  'melville'),\n",
       " ('<DUMMY>',\n",
       "  '<DUMMY>',\n",
       "  '<DUMMY>',\n",
       "  '<DUMMY>',\n",
       "  '[',\n",
       "  'moby',\n",
       "  'dick',\n",
       "  'by',\n",
       "  'herman',\n",
       "  'melville',\n",
       "  '1851'),\n",
       " ('<DUMMY>',\n",
       "  '<DUMMY>',\n",
       "  '<DUMMY>',\n",
       "  '[',\n",
       "  'moby',\n",
       "  'dick',\n",
       "  'by',\n",
       "  'herman',\n",
       "  'melville',\n",
       "  '1851',\n",
       "  ']'),\n",
       " ('<DUMMY>',\n",
       "  '<DUMMY>',\n",
       "  '[',\n",
       "  'moby',\n",
       "  'dick',\n",
       "  'by',\n",
       "  'herman',\n",
       "  'melville',\n",
       "  '1851',\n",
       "  ']',\n",
       "  '<DUMMY>'),\n",
       " ('<DUMMY>',\n",
       "  '[',\n",
       "  'moby',\n",
       "  'dick',\n",
       "  'by',\n",
       "  'herman',\n",
       "  'melville',\n",
       "  '1851',\n",
       "  ']',\n",
       "  '<DUMMY>',\n",
       "  '<DUMMY>'),\n",
       " ('[',\n",
       "  'moby',\n",
       "  'dick',\n",
       "  'by',\n",
       "  'herman',\n",
       "  'melville',\n",
       "  '1851',\n",
       "  ']',\n",
       "  '<DUMMY>',\n",
       "  '<DUMMY>',\n",
       "  '<DUMMY>'),\n",
       " ('moby',\n",
       "  'dick',\n",
       "  'by',\n",
       "  'herman',\n",
       "  'melville',\n",
       "  '1851',\n",
       "  ']',\n",
       "  '<DUMMY>',\n",
       "  '<DUMMY>',\n",
       "  '<DUMMY>',\n",
       "  '<DUMMY>'),\n",
       " ('dick',\n",
       "  'by',\n",
       "  'herman',\n",
       "  'melville',\n",
       "  '1851',\n",
       "  ']',\n",
       "  '<DUMMY>',\n",
       "  '<DUMMY>',\n",
       "  '<DUMMY>',\n",
       "  '<DUMMY>',\n",
       "  '<DUMMY>'),\n",
       " ('<DUMMY>',\n",
       "  '<DUMMY>',\n",
       "  '<DUMMY>',\n",
       "  '<DUMMY>',\n",
       "  '<DUMMY>',\n",
       "  'etymology',\n",
       "  '.',\n",
       "  '<DUMMY>',\n",
       "  '<DUMMY>',\n",
       "  '<DUMMY>',\n",
       "  '<DUMMY>'),\n",
       " ('<DUMMY>',\n",
       "  '<DUMMY>',\n",
       "  '<DUMMY>',\n",
       "  '<DUMMY>',\n",
       "  'etymology',\n",
       "  '.',\n",
       "  '<DUMMY>',\n",
       "  '<DUMMY>',\n",
       "  '<DUMMY>',\n",
       "  '<DUMMY>',\n",
       "  '<DUMMY>')]"
      ]
     },
     "execution_count": 23,
     "metadata": {},
     "output_type": "execute_result"
    }
   ],
   "source": [
    "WINDOW_SIZE = 5\n",
    "windows = flatten([list(nltk.ngrams(['<DUMMY>'] * WINDOW_SIZE + c + ['<DUMMY>'] * WINDOW_SIZE, WINDOW_SIZE * 2 + 1)) for c in corpus])\n",
    "\n",
    "windows[:10]"
   ]
  },
  {
   "cell_type": "code",
   "execution_count": 24,
   "metadata": {},
   "outputs": [],
   "source": [
    "# (Stores center word, context word) for skipgram with window = 5\n",
    "train_data = []\n",
    "\n",
    "for window in windows:\n",
    "    for i in range(WINDOW_SIZE * 2 + 1):\n",
    "        # Dont include excluded word from vocab\n",
    "        if window[i] in exclude or window[WINDOW_SIZE] in exclude:\n",
    "            continue\n",
    "        # Also dont include center word or <DUMMY> with the center word\n",
    "        if i == WINDOW_SIZE or window[i] == '<DUMMY>':\n",
    "            continue\n",
    "        train_data.append((window[WINDOW_SIZE], window[i]))"
   ]
  },
  {
   "cell_type": "code",
   "execution_count": 33,
   "metadata": {},
   "outputs": [],
   "source": [
    "X_p = []\n",
    "y_p = []\n",
    "\n",
    "# Storing the (center, context) tuple in the form of indices\n",
    "for pair in train_data:\n",
    "    X_p.append(prepare_word(pair[0], word2idx).view(1, -1))\n",
    "    y_p.append(prepare_word(pair[1], word2idx).view(1, -1))\n",
    "    \n",
    "train_data = list(zip(X_p, y_p))"
   ]
  },
  {
   "cell_type": "markdown",
   "metadata": {},
   "source": [
    "### Negative Sampling"
   ]
  },
  {
   "cell_type": "code",
   "execution_count": 37,
   "metadata": {},
   "outputs": [
    {
     "data": {
      "text/plain": [
       "['matter',\n",
       " 'matter',\n",
       " 'matter',\n",
       " 'thought',\n",
       " 'thought',\n",
       " 'thought',\n",
       " 'thought',\n",
       " 'thought',\n",
       " 'thought',\n",
       " 'sub']"
      ]
     },
     "execution_count": 37,
     "metadata": {},
     "output_type": "execute_result"
    }
   ],
   "source": [
    "Z = 0.001\n",
    "num_total_words = sum([c for w, c in word_count.items() if w not in exclude])\n",
    "unigram_table = []\n",
    "\n",
    "for word in vocab:\n",
    "    unigram_table.extend([word] * int(((word_count[word]/num_total_words)**0.75)/Z))\n",
    "\n",
    "unigram_table[:10]"
   ]
  },
  {
   "cell_type": "code",
   "execution_count": 102,
   "metadata": {},
   "outputs": [
    {
     "data": {
      "text/plain": [
       "tensor([[287, 281, 287, 320, 430, 106, 430, 320, 287, 378]])"
      ]
     },
     "execution_count": 102,
     "metadata": {},
     "output_type": "execute_result"
    }
   ],
   "source": [
    "def negative_sampling(targets, unigram_table, k):\n",
    "    batch_size = targets.size(0)\n",
    "    neg_samples = []\n",
    "    for i in range(batch_size):\n",
    "        nsample = []\n",
    "        target_index = targets[i].data.tolist()[0]\n",
    "        while len(nsample) < k:\n",
    "            # sample from unigram (^ 0.75) distribution\n",
    "            neg_word = random.choice(unigram_table)\n",
    "            if word2idx[neg_word] == target_index:\n",
    "                continue\n",
    "            nsample.append(neg_word)\n",
    "        neg_samples.append(prepare_sequence(nsample, word2idx).view(1, -1))\n",
    "    return(torch.cat(neg_samples))\n",
    "\n",
    "negative_sampling(torch.tensor([[174]]), unigram_table, 10)"
   ]
  },
  {
   "cell_type": "code",
   "execution_count": 103,
   "metadata": {},
   "outputs": [
    {
     "name": "stdout",
     "output_type": "stream",
     "text": [
      "Word at 174: '(' \n",
      "Negative Samples: \n",
      ",\n",
      "letter\n",
      "these\n",
      "view\n",
      "room\n",
      "did\n",
      "stern\n",
      "or\n",
      "to\n",
      "sperm\n"
     ]
    }
   ],
   "source": [
    "# 174 = '('\n",
    "idx2word = {v:k for k,v in word2idx.items()}\n",
    "\n",
    "test = negative_sampling(torch.tensor([[174]]), unigram_table, 10)\n",
    "print(\"Word at 174: '{}' \\nNegative Samples: \".format(idx2word.get(174)))\n",
    "for i in flatten(test.data.tolist()):\n",
    "    print(idx2word.get(i))"
   ]
  },
  {
   "cell_type": "markdown",
   "metadata": {},
   "source": [
    "## Defining the Model"
   ]
  },
  {
   "cell_type": "code",
   "execution_count": 105,
   "metadata": {},
   "outputs": [],
   "source": [
    "class SGNS(nn.Module):\n",
    "    \n",
    "    def __init__(self, vocab_size, ndim):\n",
    "        super(SGNS, self).__init__()\n",
    "        self.embedding_v = nn.Embedding(vocab_size, ndim) # Input Vectors\n",
    "        self.embedding_u = nn.Embedding(vocab_size, ndim) # Output Vectors\n",
    "        self.logsigmoid = nn.LogSigmoid()\n",
    "    \n",
    "        # Xavier Initialization\n",
    "        initrange = (2.0/(vocab_size + ndim))**5\n",
    "        self.embedding_v.weight.data.uniform_(-initrange, initrange)\n",
    "        self.embedding_u.weight.data.uniform_(-0.0, 0.0)\n",
    "     \n",
    "    def forward(self, center_words, target_words, neg_words):\n",
    "        center_vectors = self.embedding_v(center_words)\n",
    "        target_vectors = self.embedding_u(target_words)\n",
    "        neg_vectors = -self.embedding_u(neg_words)\n",
    "        \n",
    "        positive_score = target_vectors.bmm(center_vectors.transpose(1, 2)).squeeze(2)\n",
    "        negative_score = torch.sum(neg_vectors.bmm(center_vectors.transpose(1, 2)).squeeze(2), 1).view(neg_vectors.size(0), -1)\n",
    "        \n",
    "        loss = self.logsigmoid(positive_score) + self.logsigmoid(negative_score)\n",
    "        \n",
    "        return(-torch.mean(loss))\n",
    "    \n",
    "    def get_vectors(self, inputs):\n",
    "        vectors = self.embedding_v(inputs)\n",
    "        return(vectors)"
   ]
  },
  {
   "cell_type": "markdown",
   "metadata": {},
   "source": [
    "## Training the Model"
   ]
  },
  {
   "cell_type": "code",
   "execution_count": 106,
   "metadata": {},
   "outputs": [],
   "source": [
    "EMBEDDING_SIZE = 30\n",
    "BATCH_SIZE = 256\n",
    "EPOCH = 100\n",
    "NEG = 10\n",
    "\n",
    "losses = []\n",
    "model = SGNS(len(word2idx), EMBEDDING_SIZE)\n",
    "optimizer = optim.Adam(model.parameters(), lr = 0.001)"
   ]
  },
  {
   "cell_type": "code",
   "execution_count": 107,
   "metadata": {},
   "outputs": [
    {
     "name": "stdout",
     "output_type": "stream",
     "text": [
      "Epoch: 0, mean_loss = 1.04\n",
      "Epoch: 10, mean_loss = 0.87\n",
      "Epoch: 20, mean_loss = 0.85\n",
      "Epoch: 30, mean_loss = 0.83\n",
      "Epoch: 40, mean_loss = 0.81\n",
      "Epoch: 50, mean_loss = 0.79\n",
      "Epoch: 60, mean_loss = 0.78\n",
      "Epoch: 70, mean_loss = 0.76\n",
      "Epoch: 80, mean_loss = 0.74\n",
      "Epoch: 90, mean_loss = 0.72\n"
     ]
    }
   ],
   "source": [
    "for epoch in range(EPOCH):\n",
    "    for i, batch in enumerate(get_batch(BATCH_SIZE, train_data)):\n",
    "        inputs, targets = zip(*batch)\n",
    "        \n",
    "        inputs = torch.cat(inputs)\n",
    "        targets = torch.cat(targets)\n",
    "        neg_samples = negative_sampling(targets, unigram_table, NEG)\n",
    "        model.zero_grad()\n",
    "        \n",
    "        loss = model(inputs, targets, neg_samples)\n",
    "        \n",
    "        loss.backward()\n",
    "        optimizer.step()\n",
    "        \n",
    "        losses.append(loss.data.tolist())\n",
    "    if epoch % 10 == 0:\n",
    "        print(\"Epoch: %d, mean_loss = %0.2f\" % (epoch, np.mean(losses)))\n",
    "        losses = []"
   ]
  },
  {
   "cell_type": "code",
   "execution_count": 109,
   "metadata": {},
   "outputs": [
    {
     "data": {
      "text/plain": [
       "tensor([[ 0.1091, -0.2299,  0.0473,  0.5426,  0.0884, -0.1539, -0.0781,  0.1008,\n",
       "         -0.1723,  0.1543, -0.3471,  0.3903,  0.1920, -0.8509, -0.0822, -0.9305,\n",
       "         -0.2987,  0.0296, -0.1161, -0.6562, -0.6720,  0.0702,  0.2608,  0.2302,\n",
       "         -0.6900, -0.2282, -0.2640,  0.2476,  0.5778,  0.0322]],\n",
       "       grad_fn=<EmbeddingBackward>)"
      ]
     },
     "execution_count": 109,
     "metadata": {},
     "output_type": "execute_result"
    }
   ],
   "source": [
    "model.get_vectors(prepare_word('man', word2idx))"
   ]
  },
  {
   "cell_type": "code",
   "execution_count": 132,
   "metadata": {},
   "outputs": [],
   "source": [
    "def nearest_neighbors(target, vocab, k = 10):\n",
    "    target_vector = model.get_vectors(prepare_word(target, word2idx))\n",
    "    \n",
    "    similarities = []\n",
    "    for i in range(len(vocab)):\n",
    "        if vocab[i] == target:\n",
    "            continue\n",
    "        vector = model.get_vectors(prepare_word(list(vocab)[i], word2idx))\n",
    "        \n",
    "        cosine_sim = F.cosine_similarity(target_vector, vector).data.tolist()\n",
    "        similarities.append([vocab[i], cosine_sim[0]])\n",
    "    return(sorted(similarities, key = lambda x: x[1], reverse = True)[:k])\n",
    "        "
   ]
  },
  {
   "cell_type": "code",
   "execution_count": 137,
   "metadata": {},
   "outputs": [
    {
     "data": {
      "text/plain": [
       "[['tell', 0.8739544153213501],\n",
       " ['passengers', 0.86533522605896],\n",
       " ['penny', 0.8481901288032532],\n",
       " ['am', 0.8349013328552246],\n",
       " ['ishmael', 0.8310784697532654],\n",
       " ['why', 0.8298293948173523],\n",
       " ['particular', 0.8054483532905579],\n",
       " ['jolly', 0.7964008450508118],\n",
       " ['again', 0.7944890260696411],\n",
       " ['thought', 0.7863433957099915]]"
      ]
     },
     "execution_count": 137,
     "metadata": {},
     "output_type": "execute_result"
    }
   ],
   "source": [
    "nearest_neighbors(\"passenger\", vocab, 10)"
   ]
  },
  {
   "cell_type": "code",
   "execution_count": null,
   "metadata": {},
   "outputs": [],
   "source": []
  }
 ],
 "metadata": {
  "kernelspec": {
   "display_name": "Python 3",
   "language": "python",
   "name": "python3"
  },
  "language_info": {
   "codemirror_mode": {
    "name": "ipython",
    "version": 3
   },
   "file_extension": ".py",
   "mimetype": "text/x-python",
   "name": "python",
   "nbconvert_exporter": "python",
   "pygments_lexer": "ipython3",
   "version": "3.7.1"
  }
 },
 "nbformat": 4,
 "nbformat_minor": 2
}
